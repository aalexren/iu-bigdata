{
  "cells": [
    {
      "cell_type": "markdown",
      "metadata": {
        "id": "NpzMVTC_NcWz"
      },
      "source": [
        "Artem Chernitsa, B20-AI-01, a.chernitsa@innopolis.university"
      ]
    },
    {
      "cell_type": "code",
      "execution_count": 1,
      "metadata": {
        "colab": {
          "base_uri": "https://localhost:8080/"
        },
        "id": "_qrgabtH-iVG",
        "outputId": "0ef1844a-8c08-49ef-e576-05968aec20e2"
      },
      "outputs": [
        {
          "output_type": "stream",
          "name": "stdout",
          "text": [
            "already installed\n",
            "no data\n",
            "/usr/local/lib/python3.10/dist-packages/gdown/cli.py:121: FutureWarning: Option `--id` was deprecated in version 4.3.1 and will be removed in 5.0. You don't need to pass it anymore to use a file ID.\n",
            "  warnings.warn(\n",
            "Retrieving folder list\n",
            "Processing file 1Ejs6fdbtoTNYLMYZLfkM6GtA1ms4QL1W application_data.csv\n",
            "Processing file 1YJNRukW6Gb14Lo1ljKyevB0KprX-jF0F previous_application.csv\n",
            "Retrieving folder list completed\n",
            "Building directory structure\n",
            "Building directory structure completed\n",
            "Downloading...\n",
            "From: https://drive.google.com/uc?id=1Ejs6fdbtoTNYLMYZLfkM6GtA1ms4QL1W\n",
            "To: /content/Project/application_data.csv\n",
            "100% 166M/166M [00:02<00:00, 59.9MB/s]\n",
            "Downloading...\n",
            "From: https://drive.google.com/uc?id=1YJNRukW6Gb14Lo1ljKyevB0KprX-jF0F\n",
            "To: /content/Project/previous_application.csv\n",
            "100% 61.1M/61.1M [00:00<00:00, 79.9MB/s]\n",
            "Download completed\n"
          ]
        }
      ],
      "source": [
        "!if [ $(pip freeze | grep -F gdown | wc -l) -eq 0 ]; then echo \"not installed\" && pip install gdown==4.3.1; else echo \"already installed\"; fi\n",
        "!if [ $(ls | grep Project | wc -l) -eq 0 ]; then echo \"no data\" && gdown --folder --id 1-_5FeCJKcQf4ZtZAG-KslwqwpGguZMuk; else echo \"data is exists\"; fi\n",
        "!cp Project/* ."
      ]
    },
    {
      "cell_type": "markdown",
      "metadata": {
        "id": "ZCjfGhQQJySF"
      },
      "source": [
        "### Install Spark on Colab"
      ]
    },
    {
      "cell_type": "code",
      "execution_count": 2,
      "metadata": {
        "id": "t6JH64eLJvl8"
      },
      "outputs": [],
      "source": [
        "!apt-get install openjdk-8-jdk-headless -qq > /dev/null"
      ]
    },
    {
      "cell_type": "code",
      "execution_count": 3,
      "metadata": {
        "colab": {
          "base_uri": "https://localhost:8080/"
        },
        "id": "LJKkVORtJ7Yl",
        "outputId": "52c226d9-73a2-4ec0-8621-b593962ef76a"
      },
      "outputs": [
        {
          "output_type": "stream",
          "name": "stdout",
          "text": [
            "--2023-05-11 11:30:31--  https://archive.apache.org/dist/spark/spark-3.0.3/spark-3.0.3-bin-hadoop2.7.tgz\n",
            "Resolving archive.apache.org (archive.apache.org)... 138.201.131.134, 2a01:4f8:172:2ec5::2\n",
            "Connecting to archive.apache.org (archive.apache.org)|138.201.131.134|:443... connected.\n",
            "HTTP request sent, awaiting response... 200 OK\n",
            "Length: 220400553 (210M) [application/x-gzip]\n",
            "Saving to: ‘spark.tgz’\n",
            "\n",
            "spark.tgz           100%[===================>] 210.19M  30.4MB/s    in 7.9s    \n",
            "\n",
            "2023-05-11 11:30:39 (26.5 MB/s) - ‘spark.tgz’ saved [220400553/220400553]\n",
            "\n"
          ]
        }
      ],
      "source": [
        "!wget --continue https://archive.apache.org/dist/spark/spark-3.0.3/spark-3.0.3-bin-hadoop2.7.tgz -O spark.tgz"
      ]
    },
    {
      "cell_type": "code",
      "execution_count": 4,
      "metadata": {
        "id": "hEY05VXWJ97O"
      },
      "outputs": [],
      "source": [
        "!tar xvzf spark.tgz > /dev/null"
      ]
    },
    {
      "cell_type": "code",
      "execution_count": 5,
      "metadata": {
        "colab": {
          "base_uri": "https://localhost:8080/"
        },
        "id": "Lqm9JEriJ-W8",
        "outputId": "d8be16a1-5831-4f39-a66f-9c88fbb166ea"
      },
      "outputs": [
        {
          "output_type": "stream",
          "name": "stdout",
          "text": [
            "\u001b[2K     \u001b[90m━━━━━━━━━━━━━━━━━━━━━━━━━━━━━━━━━━━━━━━\u001b[0m \u001b[32m310.8/310.8 MB\u001b[0m \u001b[31m3.6 MB/s\u001b[0m eta \u001b[36m0:00:00\u001b[0m\n",
            "\u001b[?25h  Preparing metadata (setup.py) ... \u001b[?25l\u001b[?25hdone\n",
            "  Building wheel for pyspark (setup.py) ... \u001b[?25l\u001b[?25hdone\n"
          ]
        }
      ],
      "source": [
        "!pip install -q pyspark"
      ]
    },
    {
      "cell_type": "code",
      "execution_count": 6,
      "metadata": {
        "id": "UYcxIqePKAtQ"
      },
      "outputs": [],
      "source": [
        "import os\n",
        "import os.path\n",
        "\n",
        "PATH = \"/content\"\n",
        "SPARK_FOLDER = \"spark-3.0.3-bin-hadoop2.7\"\n",
        "# SPARK_FOLDER = \"spark-3.2.3-bin-hadoop2.7\"\n",
        "os.environ[\"JAVA_HOME\"] = \"/usr/lib/jvm/java-8-openjdk-amd64\"\n",
        "os.environ[\"SPARK_HOME\"] = os.path.join(PATH, SPARK_FOLDER)\n",
        "\n",
        "\n",
        "# We also added paths for Spark binaries\n",
        "os.environ[\"PATH\"] += os.pathsep + os.path.join(PATH, SPARK_FOLDER, \"bin\")\n",
        "os.environ[\"PATH\"] += os.pathsep + os.path.join(PATH, SPARK_FOLDER, \"sbin\")\n",
        "\n",
        "\n",
        "\n",
        "# os.environ['HADOOP_CONF_DIR'] = os.path.join(PATH, \"hadoop-2.10.2/etc/hadoop\")\n",
        "# os.environ[\"HADOOP_HOME\"] = os.path.join(PATH, \"hadoop-2.10.2\")\n",
        "# os.environ['LD_LIBRARY_PATH']= os.path.join(PATH, \"lib/native\")"
      ]
    },
    {
      "cell_type": "code",
      "execution_count": 7,
      "metadata": {
        "id": "Vjdbpd2VKDZY"
      },
      "outputs": [],
      "source": [
        "!pip install -q findspark\n",
        "import findspark\n",
        "findspark.init()"
      ]
    },
    {
      "cell_type": "markdown",
      "metadata": {
        "id": "iqBe0HeQKf_r"
      },
      "source": [
        "### Create Spark Session"
      ]
    },
    {
      "cell_type": "code",
      "execution_count": 8,
      "metadata": {
        "colab": {
          "base_uri": "https://localhost:8080/",
          "height": 219
        },
        "id": "ECIDHj0lKeWG",
        "outputId": "fa93e2e2-fc73-4553-8932-e25941a8f9bd"
      },
      "outputs": [
        {
          "output_type": "execute_result",
          "data": {
            "text/plain": [
              "<pyspark.sql.session.SparkSession at 0x7f8d7826ae00>"
            ],
            "text/html": [
              "\n",
              "            <div>\n",
              "                <p><b>SparkSession - in-memory</b></p>\n",
              "                \n",
              "        <div>\n",
              "            <p><b>SparkContext</b></p>\n",
              "\n",
              "            <p><a href=\"http://d26b2a0f1f6e:4050\">Spark UI</a></p>\n",
              "\n",
              "            <dl>\n",
              "              <dt>Version</dt>\n",
              "                <dd><code>v3.0.3</code></dd>\n",
              "              <dt>Master</dt>\n",
              "                <dd><code>local[*]</code></dd>\n",
              "              <dt>AppName</dt>\n",
              "                <dd><code>Colab</code></dd>\n",
              "            </dl>\n",
              "        </div>\n",
              "        \n",
              "            </div>\n",
              "        "
            ]
          },
          "metadata": {},
          "execution_count": 8
        }
      ],
      "source": [
        "from pyspark.sql import SparkSession\n",
        "\n",
        "# We will use this port number for monitoring Spark Jobs\n",
        "port=4050\n",
        "\n",
        "spark = SparkSession.builder\\\n",
        "        .master(\"local[*]\")\\\n",
        "        .appName(\"Colab\")\\\n",
        "        .config('spark.ui.port', str(port))\\\n",
        "        .getOrCreate()\n",
        "\n",
        "spark.conf.set(\"spark.sql.repl.eagerEval.enabled\", True) # Property used to format output tables better\n",
        "\n",
        "spark"
      ]
    },
    {
      "cell_type": "code",
      "execution_count": 9,
      "metadata": {
        "colab": {
          "base_uri": "https://localhost:8080/",
          "height": 196
        },
        "id": "gXggJYIAxv2B",
        "outputId": "e1700c42-f011-42f1-9be3-7d39f2d36370"
      },
      "outputs": [
        {
          "output_type": "execute_result",
          "data": {
            "text/plain": [
              "<SparkContext master=local[*] appName=Colab>"
            ],
            "text/html": [
              "\n",
              "        <div>\n",
              "            <p><b>SparkContext</b></p>\n",
              "\n",
              "            <p><a href=\"http://d26b2a0f1f6e:4050\">Spark UI</a></p>\n",
              "\n",
              "            <dl>\n",
              "              <dt>Version</dt>\n",
              "                <dd><code>v3.0.3</code></dd>\n",
              "              <dt>Master</dt>\n",
              "                <dd><code>local[*]</code></dd>\n",
              "              <dt>AppName</dt>\n",
              "                <dd><code>Colab</code></dd>\n",
              "            </dl>\n",
              "        </div>\n",
              "        "
            ]
          },
          "metadata": {},
          "execution_count": 9
        }
      ],
      "source": [
        "sc = spark.sparkContext\n",
        "sc"
      ]
    },
    {
      "cell_type": "markdown",
      "metadata": {
        "id": "0JStTWSHKznc"
      },
      "source": [
        "### Spark App"
      ]
    },
    {
      "cell_type": "code",
      "execution_count": 10,
      "metadata": {
        "colab": {
          "base_uri": "https://localhost:8080/"
        },
        "id": "f4X55RgPKlXM",
        "outputId": "f0b16395-0c81-4e21-e222-1400005f89ec"
      },
      "outputs": [
        {
          "output_type": "execute_result",
          "data": {
            "text/plain": [
              "[]"
            ]
          },
          "metadata": {},
          "execution_count": 10
        }
      ],
      "source": [
        "public_url = !curl -s http://localhost:4040/api/tunnels\n",
        "public_url = !curl -s http://localhost:4040/api/tunnels\n",
        "public_url"
      ]
    },
    {
      "cell_type": "markdown",
      "metadata": {
        "id": "GsS3FEPKNHw7"
      },
      "source": [
        "## Task on Spark MLlib"
      ]
    },
    {
      "cell_type": "code",
      "execution_count": 11,
      "metadata": {
        "id": "8RsEGAEKNGZy"
      },
      "outputs": [],
      "source": [
        "import gc\n",
        "import math\n",
        "\n",
        "from pyspark.sql.types import StructType,\\\n",
        "                            ArrayType, \\\n",
        "                            StructField,\\\n",
        "                            IntegerType,\\\n",
        "                            DoubleType, \\\n",
        "                            StringType,\\\n",
        "                            BooleanType,\\\n",
        "                            TimestampType,\\\n",
        "                            DateType\n",
        "import pyspark.sql.functions as F\n",
        "\n",
        "\n",
        "from pyspark import keyword_only\n",
        "from pyspark.sql import DataFrame\n",
        "\n",
        "from pyspark.ml import Transformer, Pipeline\n",
        "from pyspark.ml.param.shared import HasInputCol, HasOutputCol, Param, Params, TypeConverters\n",
        "from pyspark.ml.util import DefaultParamsReadable, DefaultParamsWritable\n",
        "\n",
        "from pyspark.ml.feature import \\\n",
        "    StringIndexer, \\\n",
        "    Word2Vec, \\\n",
        "    MinMaxScaler, \\\n",
        "    StandardScaler, \\\n",
        "    VectorAssembler, \\\n",
        "    Imputer, \\\n",
        "    PCA, \\\n",
        "    VectorIndexer\n",
        "from pyspark.ml.regression import LinearRegression, DecisionTreeRegressor\n",
        "from pyspark.ml.evaluation import \\\n",
        "    RegressionEvaluator, \\\n",
        "    BinaryClassificationEvaluator\n",
        "from pyspark.ml.classification import \\\n",
        "    RandomForestClassifier, \\\n",
        "    MultilayerPerceptronClassifier, \\\n",
        "    LogisticRegression, \\\n",
        "    DecisionTreeClassifier\n",
        "from pyspark.ml.recommendation import ALS\n",
        "from pyspark.mllib.evaluation import \\\n",
        "    MulticlassMetrics, \\\n",
        "    BinaryClassificationMetrics\n",
        "\n",
        "from pyspark.ml.tuning import CrossValidator, ParamGridBuilder"
      ]
    },
    {
      "cell_type": "code",
      "execution_count": 12,
      "metadata": {
        "id": "PIGAybQel9rU"
      },
      "outputs": [],
      "source": [
        "app_data = prev_app = None"
      ]
    },
    {
      "cell_type": "code",
      "execution_count": 13,
      "metadata": {
        "id": "cRuVznKOl8KK"
      },
      "outputs": [],
      "source": [
        "app_data = spark.read \\\n",
        "    .option(\"header\", True) \\\n",
        "    .option(\"mode\", \"DROPMALFORMED\") \\\n",
        "    .csv(\"application_data.csv\")"
      ]
    },
    {
      "cell_type": "code",
      "execution_count": 14,
      "metadata": {
        "id": "EcAuvHvPsReh"
      },
      "outputs": [],
      "source": [
        "# app_data.printSchema()\n",
        "# app_data = app_data.limit(1000)"
      ]
    },
    {
      "cell_type": "markdown",
      "metadata": {
        "id": "vhBoqC69kkoL"
      },
      "source": [
        "#### Encode categorical features"
      ]
    },
    {
      "cell_type": "code",
      "execution_count": 15,
      "metadata": {
        "id": "O_INiZf3qmpK"
      },
      "outputs": [],
      "source": [
        "categorical_features = [\n",
        "    \"name_contract_type\",\n",
        "    \"code_gender\",\n",
        "    \"flag_own_car\",\n",
        "    \"flag_own_realty\",\n",
        "    \"name_type_suite\",\n",
        "    \"name_income_type\",\n",
        "    \"name_education_type\",\n",
        "    \"name_family_status\",\n",
        "    \"name_housing_type\",\n",
        "    \"occupation_type\",\n",
        "    \"weekday_appr_process_start\",\n",
        "    \"organization_type\",\n",
        "    \"fondkapremont_mode\",\n",
        "    \"housetype_mode\",\n",
        "    \"wallsmaterial_mode\",\n",
        "    \"emergencystate_mode\"\n",
        "]\n",
        "categorical_features = list(map(lambda x: x.upper(), categorical_features))\n",
        "\n",
        "\n",
        "for feature in categorical_features:\n",
        "    indexer = StringIndexer(\n",
        "        inputCol=feature,\n",
        "        outputCol=\"%s_enc\" % feature\n",
        "    )\n",
        "    indexer = indexer.setHandleInvalid(\"keep\")\n",
        "    indexer = indexer.fit(app_data)\n",
        "    app_data = indexer.transform(app_data)\n",
        "    app_data = app_data.drop(feature)\n",
        "\n",
        "# app_data.limit(10).show()"
      ]
    },
    {
      "cell_type": "markdown",
      "metadata": {
        "id": "doMNFmTgldc4"
      },
      "source": [
        "#### Cast numerical values to float"
      ]
    },
    {
      "cell_type": "code",
      "execution_count": 16,
      "metadata": {
        "id": "cYPBXnXElc77"
      },
      "outputs": [],
      "source": [
        "app_data = app_data.select(*(F.col(c).cast(\"float\").alias(c) for c in app_data.columns))\n",
        "# app_data.limit(10).show()"
      ]
    },
    {
      "cell_type": "markdown",
      "metadata": {
        "id": "H_WwJVZjlu8u"
      },
      "source": [
        "#### Imputation"
      ]
    },
    {
      "cell_type": "code",
      "execution_count": 17,
      "metadata": {
        "id": "ifrBTIFUlwv4"
      },
      "outputs": [],
      "source": [
        "imputation_columns = list(set(app_data.columns) - set([\"SK_ID_CURR\"]))\n",
        "\n",
        "imputer = Imputer(\n",
        "    inputCols=imputation_columns,\n",
        "    outputCols=[\"{}_imputed\".format(c) for c in imputation_columns]\n",
        "    ).setStrategy(\"median\")\n",
        "\n",
        "app_data = imputer.fit(app_data).transform(app_data)\n",
        "# app_data.limit(10).show()"
      ]
    },
    {
      "cell_type": "code",
      "execution_count": 18,
      "metadata": {
        "id": "ZBHGb4h9nM0C"
      },
      "outputs": [],
      "source": [
        "# app_data.select(\"TARGET_imputed\").limit(5).show()"
      ]
    },
    {
      "cell_type": "markdown",
      "metadata": {
        "id": "aJyr4WjMofvl"
      },
      "source": [
        "#### Drop old columns"
      ]
    },
    {
      "cell_type": "code",
      "execution_count": 19,
      "metadata": {
        "id": "SxSmx6BRofEx"
      },
      "outputs": [],
      "source": [
        "app_data = app_data.drop(*imputation_columns)"
      ]
    },
    {
      "cell_type": "code",
      "execution_count": 20,
      "metadata": {
        "colab": {
          "base_uri": "https://localhost:8080/"
        },
        "id": "pA8KsCZson88",
        "outputId": "cf40a5fc-3a78-4f39-a19d-cc81c63542be"
      },
      "outputs": [
        {
          "output_type": "stream",
          "name": "stdout",
          "text": [
            "+----------+----------------------------+----------------------+------------------------+-----------------------------+-------------------------------+------------------------+---------------------+-----------------------+----------------------+------------------------------+------------------------+------------------------+-----------------------+------------------------------------+--------------------------------+----------------------------------+-----------------------+------------------------+-----------------------+------------------+-------------------+------------------------+-----------------------+-----------------------+--------------+------------------------+----------------------+------------------------------+-------------------------------+-------------------------------+--------------------------------+-----------------------+------------------------+----------------------------------+------------------------------+----------------------+------------------------------+---------------------+------------------------+-----------------------+----------------------+-----------------------+-----------------------+---------------------------+-----------------------+---------------------+------------------+------------------------------+---------------------+----------------------------------+---------------------------------+-----------------------------------+-----------------------+------------------------+--------------------+-----------------------+------------------------+-----------------------+---------------------------------+-----------------------------+-----------------------+-----------------------+----------------------+----------------------------+---------------------+------------------------+--------------------+--------------------------------+---------------------------+---------------------------------+----------------------------------+----------------------------+-------------------+---------------------------+--------------------+------------------+-------------------------+------------------------+-----------------------------+---------------------+----------------------+------------------------+------------------------------+----------------------------------+-------------------------------+------------------------+--------------------------------------+-------------------------+--------------------------------+---------------------+-----------------------------+------------------+-----------------------------------+--------------------------+------------------+-------------------------+------------------------------+--------------------------------+--------------------------------+--------------------------+--------------------+------------------------------------+-------------------------------+-------------------------+----------------------+----------------------+------------------------+------------------------+-----------------------+----------------------+-----------------------------------+--------------------------+----------------------------------+-----------------------+----------------------+-----------------------+-----------------------+------------------------+--------------------+----------------------+----------------------+\n",
            "|SK_ID_CURR|LIVINGAPARTMENTS_AVG_imputed|APARTMENTS_AVG_imputed|AMT_INCOME_TOTAL_imputed|LIVINGAPARTMENTS_MEDI_imputed|NONLIVINGAPARTMENTS_AVG_imputed|FLAG_OWN_CAR_enc_imputed|FLOORSMAX_AVG_imputed|FLAG_WORK_PHONE_imputed|ELEVATORS_MODE_imputed|WALLSMATERIAL_MODE_enc_imputed|FLAG_DOCUMENT_11_imputed|FLAG_DOCUMENT_21_imputed|CNT_FAM_MEMBERS_imputed|YEARS_BEGINEXPLUATATION_MEDI_imputed|OBS_60_CNT_SOCIAL_CIRCLE_imputed|REGION_POPULATION_RELATIVE_imputed|FLAG_DOCUMENT_7_imputed|YEARS_BUILD_MODE_imputed|YEARS_BUILD_AVG_imputed|FLAG_MOBIL_imputed|OWN_CAR_AGE_imputed|FLAG_DOCUMENT_13_imputed|FLAG_DOCUMENT_5_imputed|FLAG_DOCUMENT_9_imputed|TARGET_imputed|FLAG_DOCUMENT_10_imputed|COMMONAREA_AVG_imputed|REG_CITY_NOT_LIVE_CITY_imputed|HOUR_APPR_PROCESS_START_imputed|LIVE_CITY_NOT_WORK_CITY_imputed|OBS_30_CNT_SOCIAL_CIRCLE_imputed|FLAG_DOCUMENT_3_imputed|FLAG_DOCUMENT_17_imputed|REG_REGION_NOT_LIVE_REGION_imputed|REG_CITY_NOT_WORK_CITY_imputed|FLOORSMAX_MODE_imputed|NAME_FAMILY_STATUS_enc_imputed|ENTRANCES_AVG_imputed|YEARS_BUILD_MEDI_imputed|COMMONAREA_MODE_imputed|TOTALAREA_MODE_imputed|APARTMENTS_MODE_imputed|FLAG_DOCUMENT_4_imputed|OCCUPATION_TYPE_enc_imputed|AMT_GOODS_PRICE_imputed|DAYS_EMPLOYED_imputed|FLAG_EMAIL_imputed|DAYS_LAST_PHONE_CHANGE_imputed|LANDAREA_MEDI_imputed|AMT_REQ_CREDIT_BUREAU_WEEK_imputed|AMT_REQ_CREDIT_BUREAU_DAY_imputed|LIVE_REGION_NOT_WORK_REGION_imputed|DAYS_ID_PUBLISH_imputed|BASEMENTAREA_AVG_imputed|EXT_SOURCE_3_imputed|APARTMENTS_MEDI_imputed|FLAG_DOCUMENT_14_imputed|CODE_GENDER_enc_imputed|AMT_REQ_CREDIT_BUREAU_QRT_imputed|NAME_HOUSING_TYPE_enc_imputed|COMMONAREA_MEDI_imputed|LIVINGAREA_MODE_imputed|FLOORSMAX_MEDI_imputed|NAME_INCOME_TYPE_enc_imputed|ELEVATORS_AVG_imputed|FLAG_DOCUMENT_20_imputed|CNT_CHILDREN_imputed|NONLIVINGAPARTMENTS_MEDI_imputed|FLAG_OWN_REALTY_enc_imputed|AMT_REQ_CREDIT_BUREAU_MON_imputed|AMT_REQ_CREDIT_BUREAU_YEAR_imputed|REGION_RATING_CLIENT_imputed|AMT_ANNUITY_imputed|NAME_TYPE_SUITE_enc_imputed|EXT_SOURCE_1_imputed|AMT_CREDIT_imputed|BASEMENTAREA_MEDI_imputed|FLAG_CONT_MOBILE_imputed|LIVINGAPARTMENTS_MODE_imputed|FLOORSMIN_AVG_imputed|LIVINGAREA_AVG_imputed|FLAG_DOCUMENT_18_imputed|FONDKAPREMONT_MODE_enc_imputed|REG_REGION_NOT_WORK_REGION_imputed|NAME_EDUCATION_TYPE_enc_imputed|FLAG_DOCUMENT_12_imputed|WEEKDAY_APPR_PROCESS_START_enc_imputed|BASEMENTAREA_MODE_imputed|DEF_60_CNT_SOCIAL_CIRCLE_imputed|LANDAREA_MODE_imputed|ORGANIZATION_TYPE_enc_imputed|DAYS_BIRTH_imputed|REGION_RATING_CLIENT_W_CITY_imputed|NONLIVINGAREA_MEDI_imputed|FLAG_PHONE_imputed|DAYS_REGISTRATION_imputed|NAME_CONTRACT_TYPE_enc_imputed|DEF_30_CNT_SOCIAL_CIRCLE_imputed|NONLIVINGAPARTMENTS_MODE_imputed|NONLIVINGAREA_MODE_imputed|EXT_SOURCE_2_imputed|YEARS_BEGINEXPLUATATION_MODE_imputed|EMERGENCYSTATE_MODE_enc_imputed|NONLIVINGAREA_AVG_imputed|ENTRANCES_MEDI_imputed|ELEVATORS_MEDI_imputed|FLAG_DOCUMENT_15_imputed|FLAG_DOCUMENT_19_imputed|FLAG_DOCUMENT_8_imputed|FLOORSMIN_MEDI_imputed|YEARS_BEGINEXPLUATATION_AVG_imputed|HOUSETYPE_MODE_enc_imputed|AMT_REQ_CREDIT_BUREAU_HOUR_imputed|FLAG_DOCUMENT_6_imputed|FLOORSMIN_MODE_imputed|FLAG_DOCUMENT_2_imputed|LIVINGAREA_MEDI_imputed|FLAG_DOCUMENT_16_imputed|LANDAREA_AVG_imputed|FLAG_EMP_PHONE_imputed|ENTRANCES_MODE_imputed|\n",
            "+----------+----------------------------+----------------------+------------------------+-----------------------------+-------------------------------+------------------------+---------------------+-----------------------+----------------------+------------------------------+------------------------+------------------------+-----------------------+------------------------------------+--------------------------------+----------------------------------+-----------------------+------------------------+-----------------------+------------------+-------------------+------------------------+-----------------------+-----------------------+--------------+------------------------+----------------------+------------------------------+-------------------------------+-------------------------------+--------------------------------+-----------------------+------------------------+----------------------------------+------------------------------+----------------------+------------------------------+---------------------+------------------------+-----------------------+----------------------+-----------------------+-----------------------+---------------------------+-----------------------+---------------------+------------------+------------------------------+---------------------+----------------------------------+---------------------------------+-----------------------------------+-----------------------+------------------------+--------------------+-----------------------+------------------------+-----------------------+---------------------------------+-----------------------------+-----------------------+-----------------------+----------------------+----------------------------+---------------------+------------------------+--------------------+--------------------------------+---------------------------+---------------------------------+----------------------------------+----------------------------+-------------------+---------------------------+--------------------+------------------+-------------------------+------------------------+-----------------------------+---------------------+----------------------+------------------------+------------------------------+----------------------------------+-------------------------------+------------------------+--------------------------------------+-------------------------+--------------------------------+---------------------+-----------------------------+------------------+-----------------------------------+--------------------------+------------------+-------------------------+------------------------------+--------------------------------+--------------------------------+--------------------------+--------------------+------------------------------------+-------------------------------+-------------------------+----------------------+----------------------+------------------------+------------------------+-----------------------+----------------------+-----------------------------------+--------------------------+----------------------------------+-----------------------+----------------------+-----------------------+-----------------------+------------------------+--------------------+----------------------+----------------------+\n",
            "|  100002.0|                      0.0202|                0.0247|                202500.0|                       0.0205|                            0.0|                     0.0|               0.0833|                    0.0|                   0.0|                           1.0|                     0.0|                     0.0|                    1.0|                              0.9722|                             2.0|                          0.018801|                    0.0|                  0.6341|                 0.6192|               1.0|                9.0|                     0.0|                    0.0|                    0.0|           1.0|                     0.0|                0.0143|                           0.0|                           10.0|                            0.0|                             2.0|                    1.0|                     0.0|                               0.0|                           0.0|                0.0833|                           1.0|                0.069|                  0.6243|                 0.0144|                0.0149|                 0.0252|                    0.0|                        0.0|               351000.0|               -637.0|               0.0|                       -1134.0|               0.0375|                               0.0|                              0.0|                                0.0|                -2120.0|                  0.0369|          0.13937578|                  0.025|                     0.0|                    1.0|                              0.0|                          0.0|                 0.0144|                 0.0198|                0.0833|                         0.0|                  0.0|                     0.0|                 0.0|                             0.0|                        0.0|                              0.0|                               1.0|                         2.0|            24700.5|                        0.0|          0.08303697|          406597.5|                   0.0369|                     1.0|                        0.022|                0.125|                 0.019|                     0.0|                           0.0|                               0.0|                            0.0|                     0.0|                                   1.0|                   0.0383|                             2.0|               0.0377|                          0.0|           -9461.0|                                2.0|                       0.0|               1.0|                  -3648.0|                           0.0|                             2.0|                             0.0|                       0.0|           0.2629486|                              0.9722|                            0.0|                      0.0|                 0.069|                   0.0|                     0.0|                     0.0|                    0.0|                 0.125|                             0.9722|                       0.0|                               0.0|                    0.0|                 0.125|                    0.0|                 0.0193|                     0.0|              0.0369|                   1.0|                 0.069|\n",
            "|  100003.0|                      0.0773|                0.0959|                270000.0|                       0.0787|                         0.0039|                     0.0|               0.2917|                    0.0|                0.0806|                           2.0|                     0.0|                     0.0|                    2.0|                              0.9851|                             1.0|                          0.003541|                    0.0|                   0.804|                  0.796|               1.0|                9.0|                     0.0|                    0.0|                    0.0|           0.0|                     0.0|                0.0605|                           0.0|                           11.0|                            0.0|                             1.0|                    1.0|                     0.0|                               0.0|                           0.0|                0.2917|                           0.0|               0.0345|                  0.7987|                 0.0497|                0.0714|                 0.0924|                    0.0|                        2.0|              1129500.0|              -1188.0|               0.0|                        -828.0|               0.0132|                               0.0|                              0.0|                                0.0|                 -291.0|                  0.0529|          0.53527623|                 0.0968|                     0.0|                    0.0|                              0.0|                          0.0|                 0.0608|                 0.0554|                0.2917|                         3.0|                 0.08|                     0.0|                 0.0|                          0.0039|                        1.0|                              0.0|                               0.0|                         1.0|            35698.5|                        1.0|          0.31126732|         1293502.5|                   0.0529|                     1.0|                        0.079|               0.3333|                0.0549|                     0.0|                           0.0|                               0.0|                            1.0|                     0.0|                                   2.0|                   0.0538|                             0.0|               0.0128|                          7.0|          -16765.0|                                1.0|                      0.01|               1.0|                  -1186.0|                           0.0|                             0.0|                             0.0|                       0.0|           0.6222458|                              0.9851|                            0.0|                   0.0098|                0.0345|                  0.08|                     0.0|                     0.0|                    0.0|                0.3333|                             0.9851|                       0.0|                               0.0|                    0.0|                0.3333|                    0.0|                 0.0558|                     0.0|               0.013|                   1.0|                0.0345|\n",
            "|  100004.0|                      0.0756|                0.0876|                 67500.0|                       0.0761|                            0.0|                     1.0|               0.1667|                    1.0|                   0.0|                           7.0|                     0.0|                     0.0|                    1.0|                              0.9816|                             0.0|                          0.010032|                    0.0|                  0.7648|                 0.7552|               1.0|               26.0|                     0.0|                    0.0|                    0.0|           0.0|                     0.0|                 0.021|                           0.0|                            9.0|                            0.0|                             0.0|                    0.0|                     0.0|                               0.0|                           0.0|                0.1667|                           1.0|               0.1379|                  0.7585|                  0.019|                0.0687|                  0.084|                    0.0|                        0.0|               135000.0|               -225.0|               0.0|                        -815.0|               0.0486|                               0.0|                              0.0|                                0.0|                -2531.0|                  0.0762|           0.7295667|                 0.0864|                     0.0|                    1.0|                              0.0|                          0.0|                 0.0208|                  0.073|                0.1667|                         0.0|                  0.0|                     0.0|                 0.0|                             0.0|                        0.0|                              0.0|                               0.0|                         2.0|             6750.0|                        0.0|           0.5055869|          135000.0|                   0.0758|                     1.0|                       0.0762|               0.2083|                0.0744|                     0.0|                           4.0|                               0.0|                            0.0|                     0.0|                                   2.0|                   0.0745|                             0.0|               0.0458|                          6.0|          -19046.0|                                2.0|                    0.0031|               1.0|                  -4260.0|                           1.0|                             0.0|                             0.0|                    0.0011|           0.5559121|                              0.9816|                            2.0|                   0.0036|                0.1379|                   0.0|                     0.0|                     0.0|                    0.0|                0.2083|                             0.9816|                       3.0|                               0.0|                    0.0|                0.2083|                    0.0|                 0.0747|                     0.0|              0.0481|                   1.0|                0.1379|\n",
            "|  100006.0|                      0.0756|                0.0876|                135000.0|                       0.0761|                            0.0|                     0.0|               0.1667|                    0.0|                   0.0|                           7.0|                     0.0|                     0.0|                    2.0|                              0.9816|                             2.0|                          0.008019|                    0.0|                  0.7648|                 0.7552|               1.0|                9.0|                     0.0|                    0.0|                    0.0|           0.0|                     0.0|                 0.021|                           0.0|                           17.0|                            0.0|                             2.0|                    1.0|                     0.0|                               0.0|                           0.0|                0.1667|                           2.0|               0.1379|                  0.7585|                  0.019|                0.0687|                  0.084|                    0.0|                        0.0|               297000.0|              -3039.0|               0.0|                        -617.0|               0.0486|                               0.0|                              0.0|                                0.0|                -2437.0|                  0.0762|          0.53527623|                 0.0864|                     0.0|                    0.0|                              0.0|                          0.0|                 0.0208|                  0.073|                0.1667|                         0.0|                  0.0|                     0.0|                 0.0|                             0.0|                        0.0|                              0.0|                               1.0|                         2.0|            29686.5|                        0.0|           0.5055869|          312682.5|                   0.0758|                     1.0|                       0.0762|               0.2083|                0.0744|                     0.0|                           4.0|                               0.0|                            0.0|                     0.0|                                   1.0|                   0.0745|                             0.0|               0.0458|                          0.0|          -19005.0|                                2.0|                    0.0031|               0.0|                  -9833.0|                           0.0|                             0.0|                             0.0|                    0.0011|           0.6504417|                              0.9816|                            2.0|                   0.0036|                0.1379|                   0.0|                     0.0|                     0.0|                    0.0|                0.2083|                             0.9816|                       3.0|                               0.0|                    0.0|                0.2083|                    0.0|                 0.0747|                     0.0|              0.0481|                   1.0|                0.1379|\n",
            "|  100007.0|                      0.0756|                0.0876|                121500.0|                       0.0761|                            0.0|                     0.0|               0.1667|                    0.0|                   0.0|                           7.0|                     0.0|                     0.0|                    1.0|                              0.9816|                             0.0|                          0.028663|                    0.0|                  0.7648|                 0.7552|               1.0|                9.0|                     0.0|                    0.0|                    0.0|           0.0|                     0.0|                 0.021|                           0.0|                           11.0|                            1.0|                             0.0|                    0.0|                     0.0|                               0.0|                           1.0|                0.1667|                           1.0|               0.1379|                  0.7585|                  0.019|                0.0687|                  0.084|                    0.0|                        2.0|               513000.0|              -3038.0|               0.0|                       -1106.0|               0.0486|                               0.0|                              0.0|                                0.0|                -3458.0|                  0.0762|          0.53527623|                 0.0864|                     0.0|                    1.0|                              0.0|                          0.0|                 0.0208|                  0.073|                0.1667|                         0.0|                  0.0|                     0.0|                 0.0|                             0.0|                        0.0|                              0.0|                               0.0|                         2.0|            21865.5|                        0.0|           0.5055869|          513000.0|                   0.0758|                     1.0|                       0.0762|               0.2083|                0.0744|                     0.0|                           4.0|                               0.0|                            0.0|                     0.0|                                   3.0|                   0.0745|                             0.0|               0.0458|                         53.0|          -19932.0|                                2.0|                    0.0031|               0.0|                  -4311.0|                           0.0|                             0.0|                             0.0|                    0.0011|           0.3227383|                              0.9816|                            2.0|                   0.0036|                0.1379|                   0.0|                     0.0|                     0.0|                    1.0|                0.2083|                             0.9816|                       3.0|                               0.0|                    0.0|                0.2083|                    0.0|                 0.0747|                     0.0|              0.0481|                   1.0|                0.1379|\n",
            "|  100008.0|                      0.0756|                0.0876|                 99000.0|                       0.0761|                            0.0|                     0.0|               0.1667|                    1.0|                   0.0|                           7.0|                     0.0|                     0.0|                    2.0|                              0.9816|                             0.0|                          0.035792|                    0.0|                  0.7648|                 0.7552|               1.0|                9.0|                     0.0|                    0.0|                    0.0|           0.0|                     0.0|                 0.021|                           0.0|                           16.0|                            0.0|                             0.0|                    1.0|                     0.0|                               0.0|                           0.0|                0.1667|                           0.0|               0.1379|                  0.7585|                  0.019|                0.0687|                  0.084|                    0.0|                        0.0|               454500.0|              -1588.0|               0.0|                       -2536.0|               0.0486|                               0.0|                              0.0|                                0.0|                 -477.0|                  0.0762|           0.6212263|                 0.0864|                     0.0|                    1.0|                              1.0|                          0.0|                 0.0208|                  0.073|                0.1667|                         3.0|                  0.0|                     0.0|                 0.0|                             0.0|                        0.0|                              0.0|                               1.0|                         2.0|            27517.5|                        2.0|           0.5055869|          490495.5|                   0.0758|                     1.0|                       0.0762|               0.2083|                0.0744|                     0.0|                           4.0|                               0.0|                            0.0|                     0.0|                                   1.0|                   0.0745|                             0.0|               0.0458|                          3.0|          -16941.0|                                2.0|                    0.0031|               1.0|                  -4970.0|                           0.0|                             0.0|                             0.0|                    0.0011|          0.35422474|                              0.9816|                            2.0|                   0.0036|                0.1379|                   0.0|                     0.0|                     0.0|                    0.0|                0.2083|                             0.9816|                       3.0|                               0.0|                    0.0|                0.2083|                    0.0|                 0.0747|                     0.0|              0.0481|                   1.0|                0.1379|\n",
            "|  100009.0|                      0.0756|                0.0876|                171000.0|                       0.0761|                            0.0|                     1.0|               0.1667|                    0.0|                   0.0|                           7.0|                     0.0|                     0.0|                    3.0|                              0.9816|                             1.0|                          0.035792|                    0.0|                  0.7648|                 0.7552|               1.0|               17.0|                     0.0|                    0.0|                    0.0|           0.0|                     0.0|                 0.021|                           0.0|                           16.0|                            0.0|                             1.0|                    0.0|                     0.0|                               0.0|                           0.0|                0.1667|                           0.0|               0.1379|                  0.7585|                  0.019|                0.0687|                  0.084|                    0.0|                        6.0|              1395000.0|              -3130.0|               0.0|                       -1562.0|               0.0486|                               0.0|                              0.0|                                0.0|                 -619.0|                  0.0762|           0.4920601|                 0.0864|                     1.0|                    0.0|                              1.0|                          0.0|                 0.0208|                  0.073|                0.1667|                         1.0|                  0.0|                     0.0|                 1.0|                             0.0|                        0.0|                              1.0|                               2.0|                         2.0|            41301.0|                        0.0|          0.77476144|         1560726.0|                   0.0758|                     1.0|                       0.0762|               0.2083|                0.0744|                     0.0|                           4.0|                               0.0|                            1.0|                     0.0|                                   6.0|                   0.0745|                             0.0|               0.0458|                          0.0|          -13778.0|                                2.0|                    0.0031|               1.0|                  -1213.0|                           0.0|                             0.0|                             0.0|                    0.0011|          0.72399986|                              0.9816|                            2.0|                   0.0036|                0.1379|                   0.0|                     0.0|                     0.0|                    1.0|                0.2083|                             0.9816|                       3.0|                               0.0|                    0.0|                0.2083|                    0.0|                 0.0747|                     0.0|              0.0481|                   1.0|                0.1379|\n",
            "|  100010.0|                      0.0756|                0.0876|                360000.0|                       0.0761|                            0.0|                     1.0|               0.1667|                    1.0|                   0.0|                           7.0|                     0.0|                     0.0|                    2.0|                              0.9816|                             2.0|                          0.003122|                    0.0|                  0.7648|                 0.7552|               1.0|                8.0|                     0.0|                    0.0|                    0.0|           0.0|                     0.0|                 0.021|                           0.0|                           16.0|                            1.0|                             2.0|                    1.0|                     0.0|                               0.0|                           1.0|                0.1667|                           0.0|               0.1379|                  0.7585|                  0.019|                0.0687|                  0.084|                    0.0|                        3.0|              1530000.0|               -449.0|               0.0|                       -1070.0|               0.0486|                               0.0|                              0.0|                                0.0|                -2379.0|                  0.0762|           0.5406544|                 0.0864|                     0.0|                    1.0|                              0.0|                          0.0|                 0.0208|                  0.073|                0.1667|                         3.0|                  0.0|                     0.0|                 0.0|                             0.0|                        0.0|                              0.0|                               0.0|                         3.0|            42075.0|                        0.0|           0.5055869|         1530000.0|                   0.0758|                     1.0|                       0.0762|               0.2083|                0.0744|                     0.0|                           4.0|                               0.0|                            1.0|                     0.0|                                   2.0|                   0.0745|                             0.0|               0.0458|                          3.0|          -18850.0|                                3.0|                    0.0031|               0.0|                  -4597.0|                           0.0|                             0.0|                             0.0|                    0.0011|           0.7142793|                              0.9816|                            2.0|                   0.0036|                0.1379|                   0.0|                     0.0|                     0.0|                    0.0|                0.2083|                             0.9816|                       3.0|                               0.0|                    0.0|                0.2083|                    0.0|                 0.0747|                     0.0|              0.0481|                   1.0|                0.1379|\n",
            "|  100011.0|                      0.0756|                0.0876|                112500.0|                       0.0761|                            0.0|                     0.0|               0.1667|                    0.0|                   0.0|                           7.0|                     0.0|                     0.0|                    2.0|                              0.9816|                             1.0|                          0.018634|                    0.0|                  0.7648|                 0.7552|               1.0|                9.0|                     0.0|                    0.0|                    0.0|           0.0|                     0.0|                 0.021|                           0.0|                           14.0|                            0.0|                             1.0|                    1.0|                     0.0|                               0.0|                           0.0|                0.1667|                           0.0|               0.1379|                  0.7585|                  0.019|                0.0687|                  0.084|                    0.0|                       18.0|               913500.0|             365243.0|               0.0|                           0.0|               0.0486|                               0.0|                              0.0|                                0.0|                -3514.0|                  0.0762|           0.7517237|                 0.0864|                     0.0|                    0.0|                              0.0|                          0.0|                 0.0208|                  0.073|                0.1667|                         2.0|                  0.0|                     0.0|                 0.0|                             0.0|                        0.0|                              0.0|                               1.0|                         2.0|            33826.5|                        3.0|          0.58733404|         1019610.0|                   0.0758|                     1.0|                       0.0762|               0.2083|                0.0744|                     0.0|                           4.0|                               0.0|                            0.0|                     0.0|                                   1.0|                   0.0745|                             0.0|               0.0458|                          1.0|          -20099.0|                                2.0|                    0.0031|               0.0|                  -7427.0|                           0.0|                             0.0|                             0.0|                    0.0011|          0.20574729|                              0.9816|                            2.0|                   0.0036|                0.1379|                   0.0|                     0.0|                     0.0|                    0.0|                0.2083|                             0.9816|                       3.0|                               0.0|                    0.0|                0.2083|                    0.0|                 0.0747|                     0.0|              0.0481|                   0.0|                0.1379|\n",
            "|  100012.0|                      0.0756|                0.0876|                135000.0|                       0.0761|                            0.0|                     0.0|               0.1667|                    0.0|                   0.0|                           7.0|                     0.0|                     0.0|                    1.0|                              0.9816|                             2.0|                          0.019689|                    0.0|                  0.7648|                 0.7552|               1.0|                9.0|                     0.0|                    0.0|                    0.0|           0.0|                     0.0|                 0.021|                           0.0|                            8.0|                            0.0|                             2.0|                    0.0|                     0.0|                               0.0|                           0.0|                0.1667|                           1.0|               0.1379|                  0.7585|                  0.019|                0.0687|                  0.084|                    0.0|                        0.0|               405000.0|              -2019.0|               0.0|                       -1673.0|               0.0486|                               0.0|                              0.0|                                0.0|                -3992.0|                  0.0762|          0.53527623|                 0.0864|                     0.0|                    1.0|                              0.0|                          0.0|                 0.0208|                  0.073|                0.1667|                         0.0|                  0.0|                     0.0|                 0.0|                             0.0|                        0.0|                              0.0|                               1.0|                         2.0|            20250.0|                        0.0|           0.5055869|          405000.0|                   0.0758|                     1.0|                       0.0762|               0.2083|                0.0744|                     0.0|                           4.0|                               0.0|                            0.0|                     0.0|                                   3.0|                   0.0745|                             0.0|               0.0458|                         34.0|          -14469.0|                                2.0|                    0.0031|               0.0|                 -14437.0|                           1.0|                             0.0|                             0.0|                    0.0011|           0.7466436|                              0.9816|                            2.0|                   0.0036|                0.1379|                   0.0|                     0.0|                     0.0|                    0.0|                0.2083|                             0.9816|                       3.0|                               0.0|                    0.0|                0.2083|                    0.0|                 0.0747|                     0.0|              0.0481|                   1.0|                0.1379|\n",
            "+----------+----------------------------+----------------------+------------------------+-----------------------------+-------------------------------+------------------------+---------------------+-----------------------+----------------------+------------------------------+------------------------+------------------------+-----------------------+------------------------------------+--------------------------------+----------------------------------+-----------------------+------------------------+-----------------------+------------------+-------------------+------------------------+-----------------------+-----------------------+--------------+------------------------+----------------------+------------------------------+-------------------------------+-------------------------------+--------------------------------+-----------------------+------------------------+----------------------------------+------------------------------+----------------------+------------------------------+---------------------+------------------------+-----------------------+----------------------+-----------------------+-----------------------+---------------------------+-----------------------+---------------------+------------------+------------------------------+---------------------+----------------------------------+---------------------------------+-----------------------------------+-----------------------+------------------------+--------------------+-----------------------+------------------------+-----------------------+---------------------------------+-----------------------------+-----------------------+-----------------------+----------------------+----------------------------+---------------------+------------------------+--------------------+--------------------------------+---------------------------+---------------------------------+----------------------------------+----------------------------+-------------------+---------------------------+--------------------+------------------+-------------------------+------------------------+-----------------------------+---------------------+----------------------+------------------------+------------------------------+----------------------------------+-------------------------------+------------------------+--------------------------------------+-------------------------+--------------------------------+---------------------+-----------------------------+------------------+-----------------------------------+--------------------------+------------------+-------------------------+------------------------------+--------------------------------+--------------------------------+--------------------------+--------------------+------------------------------------+-------------------------------+-------------------------+----------------------+----------------------+------------------------+------------------------+-----------------------+----------------------+-----------------------------------+--------------------------+----------------------------------+-----------------------+----------------------+-----------------------+-----------------------+------------------------+--------------------+----------------------+----------------------+\n",
            "\n"
          ]
        }
      ],
      "source": [
        "app_data.limit(10).show()"
      ]
    },
    {
      "cell_type": "code",
      "execution_count": 21,
      "metadata": {
        "id": "WRS372hyqYVF"
      },
      "outputs": [],
      "source": [
        "# app_data.summary()"
      ]
    },
    {
      "cell_type": "markdown",
      "metadata": {
        "id": "zckaC2Mwuqlv"
      },
      "source": [
        "#### Linear Regression"
      ]
    },
    {
      "cell_type": "code",
      "execution_count": 22,
      "metadata": {
        "id": "BF5fJBq_vmbT"
      },
      "outputs": [],
      "source": [
        "app_data = app_data.drop(\"SK_ID_CURR\")"
      ]
    },
    {
      "cell_type": "code",
      "execution_count": 23,
      "metadata": {
        "id": "97ssQaATPvQn"
      },
      "outputs": [],
      "source": [
        "# to_transform_cols = list(set(app_data.columns) - set([\"TARGET_imputed\"]))\n",
        "\n",
        "# # Vector assembler\n",
        "# assembler = VectorAssembler(\n",
        "#     inputCols=to_transform_cols,\n",
        "#     outputCol=\"features\"\n",
        "# )\n",
        "# sd_scalers = StandardScaler(\n",
        "#     inputCol=\"features\",\n",
        "#     outputCol=\"features_scaled\"\n",
        "# )\n",
        "\n",
        "# pipeline = Pipeline(stages=[assembler, sd_scalers])\n",
        "# model = pipeline.fit(app_data)\n",
        "# data = model.transform(app_data)\n",
        "\n",
        "# data = data.drop(\"features\")"
      ]
    },
    {
      "cell_type": "code",
      "execution_count": 24,
      "metadata": {
        "id": "Edn9lR318Jvv"
      },
      "outputs": [],
      "source": [
        "# to_drop_cols = set(data.columns) - set([\"TARGET_imputed\", \"features_scaled\"])\n",
        "# to_drop_cols = list(\n",
        "#     filter(lambda x: not x[::-1].startswith(\"scaled\"[::-1]), to_drop_cols)\n",
        "# )\n",
        "# data = data.drop(*to_drop_cols)\n",
        "# data.limit(5).show()"
      ]
    },
    {
      "cell_type": "code",
      "execution_count": 25,
      "metadata": {
        "id": "LPxOh36hvdZO"
      },
      "outputs": [],
      "source": [
        "to_transform_cols = list(set(app_data.columns) - set([\"TARGET_imputed\"]))\n",
        "\n",
        "# Vector assembler\n",
        "assembler = [\n",
        "    VectorAssembler(\n",
        "        inputCols=[col],\n",
        "        outputCol=col + \"_vec\"\n",
        "    ) for col in to_transform_cols\n",
        "]\n",
        "scalers = [\n",
        "    MinMaxScaler(\n",
        "        inputCol=col + \"_vec\",\n",
        "        outputCol=col + \"_scaled\"\n",
        "    ) for col in to_transform_cols\n",
        "]\n",
        "\n",
        "pipeline = Pipeline(stages=assembler + scalers)\n",
        "model = pipeline.fit(app_data)\n",
        "data = model.transform(app_data)"
      ]
    },
    {
      "cell_type": "code",
      "execution_count": 26,
      "metadata": {
        "id": "InBV8MC_yBz4"
      },
      "outputs": [],
      "source": [
        "# data.limit(5).show()"
      ]
    },
    {
      "cell_type": "code",
      "execution_count": 27,
      "metadata": {
        "colab": {
          "base_uri": "https://localhost:8080/"
        },
        "id": "_Xn_nTUWUWTN",
        "outputId": "b1214b48-84c1-4f56-cedc-7ab86069a44d"
      },
      "outputs": [
        {
          "output_type": "stream",
          "name": "stdout",
          "text": [
            "+--------------+-----------------------------+-------------------------------+-------------------------------+------------------------------+--------------------------------------+------------------------------------------+------------------------------+-----------------------------+---------------------------+----------------------------+---------------------------+----------------------------------+--------------------------------------+---------------------------+------------------------------------+----------------------------+----------------------------+------------------------------------------+-----------------------------+--------------------------------------+-------------------------+---------------------------------------+-------------------------------+-----------------------------+------------------------------+-----------------------------------------+------------------------------+-------------------------+------------------------------+-----------------------------------------+------------------------------+---------------------------------------+-------------------------------------+-------------------------------+------------------------------------+-----------------------------+------------------------------+-------------------------+---------------------------------+---------------------------------------------+------------------------------------+---------------------------------+------------------------------+-------------------------+--------------------------+------------------------------+--------------------------------------+-------------------------------+----------------------------------+-------------------------------+-------------------------------+-------------------------------+----------------------------+------------------------------------+----------------------------------------+----------------------------+---------------------------+--------------------------------+-----------------------------+---------------------------------------+-----------------------------+-------------------------------------+---------------------------------------+-----------------------------------------+-------------------------------+-----------------------------------------+-------------------------------+-------------------------------------+------------------------------+-------------------------------------+-----------------------------+-------------------------------------+-------------------------------+------------------------------+------------------------------------------+--------------------------------+------------------------------+-------------------------------+-------------------------------------------+----------------------------+------------------------------+-----------------------------------+---------------------------------------+------------------------------+-------------------------------------+-------------------------------+-------------------------+-----------------------------------------+-------------------------------+-----------------------------+-----------------------------+--------------------------------+-------------------------------+-------------------------------+--------------------------+----------------------------------------+------------------------------+-----------------------------------+---------------------------------------+---------------------------------+--------------------------------------+---------------------------+------------------------------+--------------------------------+-----------------------------+-----------------------------+-----------------------------+------------------------------+-----------------------------------+-------------------------------+-----------------------------------------+----------------------------------------+-------------------------------+----------------------------------+----------------------------+-------------------------------------------+------------------------------+------------------------------+-------------------------------------+------------------------------+\n",
            "|TARGET_imputed|FLOORSMAX_MEDI_imputed_scaled|FLAG_DOCUMENT_12_imputed_scaled|FLAG_DOCUMENT_15_imputed_scaled|LIVINGAREA_MEDI_imputed_scaled|NONLIVINGAPARTMENTS_AVG_imputed_scaled|REGION_RATING_CLIENT_W_CITY_imputed_scaled|FLAG_DOCUMENT_3_imputed_scaled|COMMONAREA_AVG_imputed_scaled|EXT_SOURCE_2_imputed_scaled|FLOORSMAX_AVG_imputed_scaled|CNT_CHILDREN_imputed_scaled|NAME_TYPE_SUITE_enc_imputed_scaled|NAME_EDUCATION_TYPE_enc_imputed_scaled|EXT_SOURCE_1_imputed_scaled|NAME_HOUSING_TYPE_enc_imputed_scaled|ELEVATORS_AVG_imputed_scaled|FLOORSMIN_AVG_imputed_scaled|YEARS_BEGINEXPLUATATION_AVG_imputed_scaled|FLOORSMIN_MEDI_imputed_scaled|LIVE_CITY_NOT_WORK_CITY_imputed_scaled|FLAG_EMAIL_imputed_scaled|OBS_30_CNT_SOCIAL_CIRCLE_imputed_scaled|FLAG_DOCUMENT_13_imputed_scaled|ELEVATORS_MEDI_imputed_scaled|COMMONAREA_MODE_imputed_scaled|REGION_POPULATION_RELATIVE_imputed_scaled|LIVINGAREA_MODE_imputed_scaled|FLAG_MOBIL_imputed_scaled|FLAG_DOCUMENT_5_imputed_scaled|AMT_REQ_CREDIT_BUREAU_YEAR_imputed_scaled|YEARS_BUILD_AVG_imputed_scaled|DEF_60_CNT_SOCIAL_CIRCLE_imputed_scaled|NAME_FAMILY_STATUS_enc_imputed_scaled|FLAG_DOCUMENT_19_imputed_scaled|LIVINGAPARTMENTS_MEDI_imputed_scaled|TOTALAREA_MODE_imputed_scaled|FLAG_DOCUMENT_8_imputed_scaled|DAYS_BIRTH_imputed_scaled|HOUSETYPE_MODE_enc_imputed_scaled|WEEKDAY_APPR_PROCESS_START_enc_imputed_scaled|LIVINGAPARTMENTS_MODE_imputed_scaled|NONLIVINGAREA_MEDI_imputed_scaled|COMMONAREA_MEDI_imputed_scaled|FLAG_PHONE_imputed_scaled|OWN_CAR_AGE_imputed_scaled|FLAG_DOCUMENT_9_imputed_scaled|HOUR_APPR_PROCESS_START_imputed_scaled|FLAG_DOCUMENT_14_imputed_scaled|FLAG_OWN_REALTY_enc_imputed_scaled|AMT_INCOME_TOTAL_imputed_scaled|FLAG_DOCUMENT_11_imputed_scaled|FLAG_DOCUMENT_17_imputed_scaled|LANDAREA_MEDI_imputed_scaled|ORGANIZATION_TYPE_enc_imputed_scaled|AMT_REQ_CREDIT_BUREAU_QRT_imputed_scaled|ENTRANCES_AVG_imputed_scaled|EXT_SOURCE_3_imputed_scaled|BASEMENTAREA_MEDI_imputed_scaled|APARTMENTS_AVG_imputed_scaled|NONLIVINGAPARTMENTS_MEDI_imputed_scaled|FLAG_EMP_PHONE_imputed_scaled|DAYS_LAST_PHONE_CHANGE_imputed_scaled|DEF_30_CNT_SOCIAL_CIRCLE_imputed_scaled|REG_REGION_NOT_WORK_REGION_imputed_scaled|BASEMENTAREA_AVG_imputed_scaled|REG_REGION_NOT_LIVE_REGION_imputed_scaled|FLAG_DOCUMENT_10_imputed_scaled|REG_CITY_NOT_WORK_CITY_imputed_scaled|AMT_GOODS_PRICE_imputed_scaled|WALLSMATERIAL_MODE_enc_imputed_scaled|FLOORSMIN_MODE_imputed_scaled|NAME_CONTRACT_TYPE_enc_imputed_scaled|YEARS_BUILD_MODE_imputed_scaled|FLAG_DOCUMENT_2_imputed_scaled|LIVE_REGION_NOT_WORK_REGION_imputed_scaled|BASEMENTAREA_MODE_imputed_scaled|APARTMENTS_MEDI_imputed_scaled|FLAG_OWN_CAR_enc_imputed_scaled|YEARS_BEGINEXPLUATATION_MODE_imputed_scaled|DAYS_EMPLOYED_imputed_scaled|FLAG_WORK_PHONE_imputed_scaled|LIVINGAPARTMENTS_AVG_imputed_scaled|NONLIVINGAPARTMENTS_MODE_imputed_scaled|FLAG_DOCUMENT_6_imputed_scaled|REG_CITY_NOT_LIVE_CITY_imputed_scaled|FLAG_DOCUMENT_21_imputed_scaled|AMT_CREDIT_imputed_scaled|AMT_REQ_CREDIT_BUREAU_WEEK_imputed_scaled|YEARS_BUILD_MEDI_imputed_scaled|FLOORSMAX_MODE_imputed_scaled|ENTRANCES_MODE_imputed_scaled|DAYS_REGISTRATION_imputed_scaled|FLAG_DOCUMENT_16_imputed_scaled|FLAG_DOCUMENT_20_imputed_scaled|AMT_ANNUITY_imputed_scaled|AMT_REQ_CREDIT_BUREAU_MON_imputed_scaled|DAYS_ID_PUBLISH_imputed_scaled|REGION_RATING_CLIENT_imputed_scaled|OBS_60_CNT_SOCIAL_CIRCLE_imputed_scaled|NONLIVINGAREA_MODE_imputed_scaled|EMERGENCYSTATE_MODE_enc_imputed_scaled|LANDAREA_AVG_imputed_scaled|FLAG_DOCUMENT_7_imputed_scaled|NONLIVINGAREA_AVG_imputed_scaled|ENTRANCES_MEDI_imputed_scaled|LIVINGAREA_AVG_imputed_scaled|ELEVATORS_MODE_imputed_scaled|APARTMENTS_MODE_imputed_scaled|NAME_INCOME_TYPE_enc_imputed_scaled|FLAG_DOCUMENT_18_imputed_scaled|AMT_REQ_CREDIT_BUREAU_HOUR_imputed_scaled|AMT_REQ_CREDIT_BUREAU_DAY_imputed_scaled|FLAG_CONT_MOBILE_imputed_scaled|OCCUPATION_TYPE_enc_imputed_scaled|LANDAREA_MODE_imputed_scaled|YEARS_BEGINEXPLUATATION_MEDI_imputed_scaled|CNT_FAM_MEMBERS_imputed_scaled|CODE_GENDER_enc_imputed_scaled|FONDKAPREMONT_MODE_enc_imputed_scaled|FLAG_DOCUMENT_4_imputed_scaled|\n",
            "+--------------+-----------------------------+-------------------------------+-------------------------------+------------------------------+--------------------------------------+------------------------------------------+------------------------------+-----------------------------+---------------------------+----------------------------+---------------------------+----------------------------------+--------------------------------------+---------------------------+------------------------------------+----------------------------+----------------------------+------------------------------------------+-----------------------------+--------------------------------------+-------------------------+---------------------------------------+-------------------------------+-----------------------------+------------------------------+-----------------------------------------+------------------------------+-------------------------+------------------------------+-----------------------------------------+------------------------------+---------------------------------------+-------------------------------------+-------------------------------+------------------------------------+-----------------------------+------------------------------+-------------------------+---------------------------------+---------------------------------------------+------------------------------------+---------------------------------+------------------------------+-------------------------+--------------------------+------------------------------+--------------------------------------+-------------------------------+----------------------------------+-------------------------------+-------------------------------+-------------------------------+----------------------------+------------------------------------+----------------------------------------+----------------------------+---------------------------+--------------------------------+-----------------------------+---------------------------------------+-----------------------------+-------------------------------------+---------------------------------------+-----------------------------------------+-------------------------------+-----------------------------------------+-------------------------------+-------------------------------------+------------------------------+-------------------------------------+-----------------------------+-------------------------------------+-------------------------------+------------------------------+------------------------------------------+--------------------------------+------------------------------+-------------------------------+-------------------------------------------+----------------------------+------------------------------+-----------------------------------+---------------------------------------+------------------------------+-------------------------------------+-------------------------------+-------------------------+-----------------------------------------+-------------------------------+-----------------------------+-----------------------------+--------------------------------+-------------------------------+-------------------------------+--------------------------+----------------------------------------+------------------------------+-----------------------------------+---------------------------------------+---------------------------------+--------------------------------------+---------------------------+------------------------------+--------------------------------+-----------------------------+-----------------------------+-----------------------------+------------------------------+-----------------------------------+-------------------------------+-----------------------------------------+----------------------------------------+-------------------------------+----------------------------------+----------------------------+-------------------------------------------+------------------------------+------------------------------+-------------------------------------+------------------------------+\n",
            "|           1.0|         [0.08330000191926...|                          [0.0]|                          [0.0]|          [0.01930000074207...|                                 [0.0]|                                     [0.5]|                         [1.0]|         [0.01429999992251...|       [0.30754228065370...|        [0.08330000191926...|                      [0.0]|                             [0.0]|                                 [0.0]|       [0.07221501223722...|                               [0.0]|                       [0.0]|                     [0.125]|                      [0.9721999764442444]|                      [0.125]|                                 [0.0]|                    [0.0]|                   [0.00574712643678...|                          [0.0]|                        [0.0]|          [0.01439999975264...|                     [0.25632113896348...|          [0.01979999989271...|                    [1.0]|                         [0.0]|                                   [0.04]|          [0.6191999912261963]|                   [0.08333333333333...|                                [0.2]|                          [0.0]|                [0.02050000056624...|         [0.01489999983459...|                         [0.0]|     [0.8888387824126268]|                            [0.0]|                         [0.16666666666666...|                [0.02199999988079...|                            [0.0]|          [0.01439999975264...|                    [1.0]|      [0.09890109890109...|                         [0.0]|                  [0.43478260869565...|                          [0.0]|                             [0.0]|           [0.00151186990994...|                          [0.0]|                          [0.0]|        [0.03750000149011...|                               [0.0]|                                   [0.0]|        [0.0689999982714653]|       [0.1550544448899902]|            [0.03689999878406...|         [0.02470000088214...|                                  [0.0]|                        [1.0]|                 [0.7357875116495806]|                   [0.05882352941176...|                                    [0.0]|           [0.03689999878406...|                                    [0.0]|                          [0.0]|                                [0.0]|          [0.07744107744107...|                 [0.14285714285714...|                      [0.125]|                                [0.0]|           [0.6341000199317932]|                         [0.0]|                                     [0.0]|            [0.03830000013113...|          [0.02500000037252...|                          [0.0]|                       [0.9721999764442444]|         [0.045086192272057]|                         [0.0]|               [0.02019999921321...|                                  [0.0]|                         [0.0]|                                [0.0]|                          [0.0]|     [0.09028651685393...|                                    [0.0]|           [0.6243000030517578]|         [0.08330000191926...|         [0.0689999982714653]|            [0.8521400778210116]|                          [0.0]|                          [0.0]|      [0.09003159003159...|                                   [0.0]|          [0.7054328192302349]|                              [0.5]|                   [0.00581395348837...|                            [0.0]|                                 [0.0]|       [0.03689999878406...|                         [0.0]|                           [0.0]|         [0.0689999982714653]|         [0.01899999938905...|                        [0.0]|          [0.02520000003278...|                              [0.0]|                          [0.0]|                                    [0.0]|                                   [0.0]|                          [1.0]|                             [0.0]|        [0.03770000115036...|                       [0.9721999764442444]|                         [0.0]|                         [0.5]|                                [0.0]|                         [0.0]|\n",
            "|           0.0|         [0.29170000553131...|                          [0.0]|                          [0.0]|          [0.05579999834299...|                  [0.00389999989420...|                                     [0.0]|                         [1.0]|         [0.06049999967217...|       [0.7277731142856299]|        [0.29170000553131...|                      [0.0]|              [0.14285714285714...|                                [0.25]|       [0.3129326711951721]|                               [0.0]|        [0.07999999821186...|        [0.33329999446868...|                      [0.9850999712944031]|         [0.33329999446868...|                                 [0.0]|                    [0.0]|                   [0.00287356321839...|                          [0.0]|         [0.07999999821186...|          [0.04969999939203...|                     [0.04501647740740...|          [0.05539999902248...|                    [1.0]|                         [0.0]|                                    [0.0]|          [0.7960000038146973]|                                  [0.0]|                                [0.0]|                          [0.0]|                [0.0786999985575676]|         [0.0714000016450882]|                         [0.0]|     [0.4771138669673055]|                            [0.0]|                         [0.3333333333333333]|                [0.07900000363588...|             [0.00999999977648...|          [0.06080000102519...|                    [1.0]|      [0.09890109890109...|                         [0.0]|                  [0.4782608695652174]|                          [0.0]|                             [1.0]|           [0.00208891949388...|                          [0.0]|                          [0.0]|        [0.01319999992847...|                [0.12280701754385...|                                   [0.0]|        [0.03449999913573...|       [0.5971630811777793]|            [0.05290000140666...|         [0.09589999914169...|                   [0.00389999989420...|                        [1.0]|                 [0.8070829450139795]|                                  [0.0]|                                    [0.0]|           [0.05290000140666...|                                    [0.0]|                          [0.0]|                                [0.0]|          [0.2716049382716049]|                 [0.2857142857142857]|         [0.33329999446868...|                                [0.0]|           [0.8040000200271606]|                         [0.0]|                                     [0.0]|            [0.05380000174045...|          [0.09679999947547...|                          [0.0]|                       [0.9850999712944031]|        [0.04364813195704...|                         [0.0]|               [0.07729999721050...|                                  [0.0]|                         [0.0]|                                [0.0]|                          [0.0]|     [0.31173595505617...|                                    [0.0]|           [0.7986999750137329]|         [0.29170000553131...|         [0.03449999913573...|            [0.9519293125810635]|                          [0.0]|                          [0.0]|      [0.13292383292383...|                                   [0.0]|          [0.9595664860358484]|                              [0.0]|                   [0.00290697674418...|                            [0.0]|                                 [0.0]|       [0.01300000026822...|                         [0.0]|            [0.00980000011622...|         [0.03449999913573...|         [0.05490000173449...|         [0.08060000091791...|          [0.09239999949932...|               [0.42857142857142...|                          [0.0]|                                    [0.0]|                                   [0.0]|                          [1.0]|              [0.1111111111111111]|        [0.01279999967664...|                       [0.9850999712944031]|          [0.05263157894736...|                         [0.0]|                                [0.0]|                         [0.0]|\n",
            "|           0.0|         [0.16670000553131...|                          [0.0]|                          [0.0]|          [0.0746999979019165]|                                 [0.0]|                                     [0.5]|                         [0.0]|         [0.02099999971687...|       [0.6501897882565688]|        [0.16670000553131...|                      [0.0]|                             [0.0]|                                 [0.0]|       [0.5178842066148514]|                               [0.0]|                       [0.0]|        [0.20829999446868...|                      [0.9815999865531921]|         [0.20829999446868...|                                 [0.0]|                    [0.0]|                                  [0.0]|                          [0.0]|                        [0.0]|          [0.01899999938905...|                     [0.13489711768909...|          [0.0729999989271164]|                    [1.0]|                         [0.0]|                                    [0.0]|          [0.7552000284194946]|                                  [0.0]|                                [0.2]|                          [0.0]|                [0.07609999924898...|         [0.06870000064373...|                         [0.0]|     [0.3485343855693348]|                            [1.0]|                         [0.3333333333333333]|                [0.07620000094175...|             [0.00310000008903...|          [0.02080000005662...|                    [1.0]|      [0.28571428571428...|                         [0.0]|                  [0.3913043478260869]|                          [0.0]|                             [0.0]|           [3.57770742047295...|                          [0.0]|                          [0.0]|        [0.04859999939799...|                [0.10526315789473...|                                   [0.0]|        [0.1378999948501587]|       [0.8141304733197161]|            [0.07580000162124...|         [0.08760000020265...|                                  [0.0]|                        [1.0]|                 [0.8101118359739049]|                                  [0.0]|                                    [0.0]|           [0.07620000094175...|                                    [0.0]|                          [0.0]|                                [0.0]|          [0.02356902356902...|                                [1.0]|         [0.20829999446868...|                                [1.0]|           [0.7648000121116638]|                         [0.0]|                                     [0.0]|            [0.07450000196695...|          [0.08640000224113...|                          [1.0]|                       [0.9815999865531921]|        [0.04616147512103...|                         [1.0]|               [0.07559999823570...|                                  [0.0]|                         [0.0]|                                [0.0]|                          [0.0]|     [0.02247191011235...|                                    [0.0]|           [0.7584999799728394]|         [0.16670000553131...|         [0.1378999948501587]|            [0.8273346303501945]|                          [0.0]|                          [0.0]|      [0.02002457002457...|                                   [0.0]|          [0.6483256912602474]|                              [0.5]|                                  [0.0]|             [0.00109999999403...|                                 [1.0]|       [0.04809999838471...|                         [0.0]|            [0.00359999993816...|         [0.1378999948501587]|         [0.07440000027418...|                        [0.0]|          [0.08399999886751...|                              [0.0]|                          [0.0]|                                    [0.0]|                                   [0.0]|                          [1.0]|                             [0.0]|        [0.04580000042915...|                       [0.9815999865531921]|                         [0.0]|                         [0.5]|                                [1.0]|                         [0.0]|\n",
            "|           0.0|         [0.16670000553131...|                          [0.0]|                          [0.0]|          [0.0746999979019165]|                                 [0.0]|                                     [0.5]|                         [1.0]|         [0.02099999971687...|       [0.7607508119073473]|        [0.16670000553131...|                      [0.0]|                             [0.0]|                                 [0.0]|       [0.5178842066148514]|                               [0.0]|                       [0.0]|        [0.20829999446868...|                      [0.9815999865531921]|         [0.20829999446868...|                                 [0.0]|                    [0.0]|                   [0.00574712643678...|                          [0.0]|                        [0.0]|          [0.01899999938905...|                     [0.10702318414411...|          [0.0729999989271164]|                    [1.0]|                         [0.0]|                                   [0.04]|          [0.7552000284194946]|                                  [0.0]|                                [0.4]|                          [0.0]|                [0.07609999924898...|         [0.06870000064373...|                         [0.0]|     [0.3508455467869222]|                            [1.0]|                         [0.16666666666666...|                [0.07620000094175...|             [0.00310000008903...|          [0.02080000005662...|                    [0.0]|      [0.09890109890109...|                         [0.0]|                  [0.7391304347826086]|                          [0.0]|                             [0.0]|           [9.34820325994545...|                          [0.0]|                          [0.0]|        [0.04859999939799...|                               [0.0]|                                   [0.0]|        [0.1378999948501587]|       [0.5971630811777793]|            [0.07580000162124...|         [0.08760000020265...|                                  [0.0]|                        [1.0]|                 [0.8562441752096924]|                                  [0.0]|                                    [0.0]|           [0.07620000094175...|                                    [0.0]|                          [0.0]|                                [0.0]|          [0.06397306397306...|                                [1.0]|         [0.20829999446868...|                                [0.0]|           [0.7648000121116638]|                         [0.0]|                                     [0.0]|            [0.07450000196695...|          [0.08640000224113...|                          [0.0]|                       [0.9815999865531921]|        [0.03881718886612...|                         [0.0]|               [0.07559999823570...|                                  [0.0]|                         [0.0]|                                [0.0]|                          [0.0]|     [0.06683707865168...|                                    [0.0]|           [0.7584999799728394]|         [0.16670000553131...|         [0.1378999948501587]|             [0.601451037613489]|                          [0.0]|                          [0.0]|      [0.10947700947700...|                                   [0.0]|          [0.6613866888981521]|                              [0.5]|                   [0.00581395348837...|             [0.00109999999403...|                                 [1.0]|       [0.04809999838471...|                         [0.0]|            [0.00359999993816...|         [0.1378999948501587]|         [0.07440000027418...|                        [0.0]|          [0.08399999886751...|                              [0.0]|                          [0.0]|                                    [0.0]|                                   [0.0]|                          [1.0]|                             [0.0]|        [0.04580000042915...|                       [0.9815999865531921]|          [0.05263157894736...|                         [0.0]|                                [1.0]|                         [0.0]|\n",
            "|           0.0|         [0.16670000553131...|                          [0.0]|                          [0.0]|          [0.0746999979019165]|                                 [0.0]|                                     [0.5]|                         [0.0]|         [0.02099999971687...|       [0.37747177397043...|        [0.16670000553131...|                      [0.0]|                             [0.0]|                                 [0.0]|       [0.5178842066148514]|                               [0.0]|                       [0.0]|        [0.20829999446868...|                      [0.9815999865531921]|         [0.20829999446868...|                                 [1.0]|                    [0.0]|                                  [0.0]|                          [0.0]|                        [0.0]|          [0.01899999938905...|                     [0.3928798936280746]|          [0.0729999989271164]|                    [1.0]|                         [0.0]|                                    [0.0]|          [0.7552000284194946]|                                  [0.0]|                                [0.2]|                          [0.0]|                [0.07609999924898...|         [0.06870000064373...|                         [1.0]|     [0.29859075535512...|                            [1.0]|                                        [0.5]|                [0.07620000094175...|             [0.00310000008903...|          [0.02080000005662...|                    [0.0]|      [0.09890109890109...|                         [0.0]|                  [0.4782608695652174]|                          [0.0]|                             [0.0]|           [8.19410409205095...|                          [0.0]|                          [0.0]|        [0.04859999939799...|                [0.9298245614035088]|                                   [0.0]|        [0.1378999948501587]|       [0.5971630811777793]|            [0.07580000162124...|         [0.08760000020265...|                                  [0.0]|                        [1.0]|                 [0.7423112767940354]|                                  [0.0]|                                    [0.0]|           [0.07620000094175...|                                    [0.0]|                          [0.0]|                                [1.0]|          [0.11784511784511...|                                [1.0]|         [0.20829999446868...|                                [0.0]|           [0.7648000121116638]|                         [0.0]|                                     [0.0]|            [0.07450000196695...|          [0.08640000224113...|                          [0.0]|                       [0.9815999865531921]|        [0.03881979877595...|                         [0.0]|               [0.07559999823570...|                                  [0.0]|                         [0.0]|                                [0.0]|                          [0.0]|     [0.11685393258426...|                                    [0.0]|           [0.7584999799728394]|         [0.16670000553131...|         [0.1378999948501587]|            [0.8252675097276264]|                          [0.0]|                          [0.0]|      [0.07897507897507...|                                   [0.0]|           [0.519522023065166]|                              [0.5]|                                  [0.0]|             [0.00109999999403...|                                 [1.0]|       [0.04809999838471...|                         [0.0]|            [0.00359999993816...|         [0.1378999948501587]|         [0.07440000027418...|                        [0.0]|          [0.08399999886751...|                              [0.0]|                          [0.0]|                                    [0.0]|                                   [0.0]|                          [1.0]|              [0.1111111111111111]|        [0.04580000042915...|                       [0.9815999865531921]|                         [0.0]|                         [0.5]|                                [1.0]|                         [0.0]|\n",
            "+--------------+-----------------------------+-------------------------------+-------------------------------+------------------------------+--------------------------------------+------------------------------------------+------------------------------+-----------------------------+---------------------------+----------------------------+---------------------------+----------------------------------+--------------------------------------+---------------------------+------------------------------------+----------------------------+----------------------------+------------------------------------------+-----------------------------+--------------------------------------+-------------------------+---------------------------------------+-------------------------------+-----------------------------+------------------------------+-----------------------------------------+------------------------------+-------------------------+------------------------------+-----------------------------------------+------------------------------+---------------------------------------+-------------------------------------+-------------------------------+------------------------------------+-----------------------------+------------------------------+-------------------------+---------------------------------+---------------------------------------------+------------------------------------+---------------------------------+------------------------------+-------------------------+--------------------------+------------------------------+--------------------------------------+-------------------------------+----------------------------------+-------------------------------+-------------------------------+-------------------------------+----------------------------+------------------------------------+----------------------------------------+----------------------------+---------------------------+--------------------------------+-----------------------------+---------------------------------------+-----------------------------+-------------------------------------+---------------------------------------+-----------------------------------------+-------------------------------+-----------------------------------------+-------------------------------+-------------------------------------+------------------------------+-------------------------------------+-----------------------------+-------------------------------------+-------------------------------+------------------------------+------------------------------------------+--------------------------------+------------------------------+-------------------------------+-------------------------------------------+----------------------------+------------------------------+-----------------------------------+---------------------------------------+------------------------------+-------------------------------------+-------------------------------+-------------------------+-----------------------------------------+-------------------------------+-----------------------------+-----------------------------+--------------------------------+-------------------------------+-------------------------------+--------------------------+----------------------------------------+------------------------------+-----------------------------------+---------------------------------------+---------------------------------+--------------------------------------+---------------------------+------------------------------+--------------------------------+-----------------------------+-----------------------------+-----------------------------+------------------------------+-----------------------------------+-------------------------------+-----------------------------------------+----------------------------------------+-------------------------------+----------------------------------+----------------------------+-------------------------------------------+------------------------------+------------------------------+-------------------------------------+------------------------------+\n",
            "\n"
          ]
        }
      ],
      "source": [
        "to_drop_cols = set(data.columns) - set([\"TARGET_imputed\"])\n",
        "to_drop_cols = list(\n",
        "    filter(lambda x: not x[::-1].startswith(\"scaled\"[::-1]), to_drop_cols)\n",
        ")\n",
        "data = data.drop(*to_drop_cols)\n",
        "data.limit(5).show()"
      ]
    },
    {
      "cell_type": "code",
      "execution_count": 28,
      "metadata": {
        "id": "Qqgy4MM50iZJ"
      },
      "outputs": [],
      "source": [
        "data = data.withColumnRenamed(\"TARGET_imputed\", \"label\")\n",
        "# data.limit(5).show()"
      ]
    },
    {
      "cell_type": "code",
      "execution_count": 29,
      "metadata": {
        "id": "u8L8Wgx09RQv"
      },
      "outputs": [],
      "source": [
        "feature_cols = list(set(data.columns) - set([\"label\"]))\n",
        "\n",
        "assembler = VectorAssembler(\n",
        "    inputCols=feature_cols,\n",
        "    outputCol=\"features\" #\"features_assembled\"\n",
        ")\n",
        "# pca = PCA(\n",
        "#     k=10,\n",
        "#     inputCol=\"features_assembled\",\n",
        "#     outputCol=\"features\"\n",
        "# )\n",
        "pipeline = Pipeline(stages=[assembler])\n",
        "model = pipeline.fit(data)\n",
        "data = model.transform(data)\n",
        "\n",
        "# data.limit(5).show()"
      ]
    },
    {
      "cell_type": "code",
      "execution_count": 30,
      "metadata": {
        "id": "XBUOdlPD-N5m",
        "colab": {
          "base_uri": "https://localhost:8080/"
        },
        "outputId": "1836a3fd-efdc-40f6-b937-0e3d0f8a3f8e"
      },
      "outputs": [
        {
          "output_type": "stream",
          "name": "stdout",
          "text": [
            "+-----+--------------------+\n",
            "|label|            features|\n",
            "+-----+--------------------+\n",
            "|  1.0|(120,[0,1,6,7,8,9...|\n",
            "|  0.0|(120,[0,2,6,7,8,9...|\n",
            "|  0.0|(120,[6,7,8,12,13...|\n",
            "|  0.0|(120,[0,6,7,8,9,1...|\n",
            "|  0.0|(120,[5,6,7,8,12,...|\n",
            "+-----+--------------------+\n",
            "\n"
          ]
        }
      ],
      "source": [
        "data.select([\"label\", \"features\"]).limit(5).show()"
      ]
    },
    {
      "cell_type": "code",
      "execution_count": 31,
      "metadata": {
        "id": "LHNYyJ6g-mfY"
      },
      "outputs": [],
      "source": [
        "df = data.select([\"label\", \"features\"])"
      ]
    },
    {
      "cell_type": "code",
      "execution_count": 32,
      "metadata": {
        "id": "6hPgCUQRutEP"
      },
      "outputs": [],
      "source": [
        "train_data, test_data = df.randomSplit([0.7, 0.3], seed=42)"
      ]
    },
    {
      "cell_type": "code",
      "execution_count": 33,
      "metadata": {
        "id": "KqqHeMKzBBVa"
      },
      "outputs": [],
      "source": [
        "roc_evaluator = BinaryClassificationEvaluator(\n",
        "    labelCol=\"label\",\n",
        "    rawPredictionCol=\"prediction\",\n",
        "    metricName=\"areaUnderROC\"\n",
        ")\n",
        "\n",
        "pr_evaluator = BinaryClassificationEvaluator(\n",
        "    labelCol=\"label\",\n",
        "    rawPredictionCol=\"prediction\",\n",
        "    metricName=\"areaUnderPR\"\n",
        ")"
      ]
    },
    {
      "cell_type": "code",
      "execution_count": 34,
      "metadata": {
        "id": "T3thhyBjvz6p"
      },
      "outputs": [],
      "source": [
        "# Create model\n",
        "lr = LogisticRegression()"
      ]
    },
    {
      "cell_type": "code",
      "execution_count": 35,
      "metadata": {
        "id": "E8ClH6iTAnBU"
      },
      "outputs": [],
      "source": [
        "# Cross validation\n",
        "grid = ParamGridBuilder() \\\n",
        "    .addGrid(lr.regParam, [0.0, 0.1, 1.0]) \\\n",
        "    .addGrid(lr.elasticNetParam, [0.0, 1.0]) \\\n",
        "    .build()\n",
        "cv = CrossValidator(\n",
        "    estimator=lr,\n",
        "    estimatorParamMaps=grid,\n",
        "    evaluator=roc_evaluator,\n",
        "    parallelism=2,\n",
        "    numFolds=4\n",
        ")"
      ]
    },
    {
      "cell_type": "code",
      "execution_count": 36,
      "metadata": {
        "id": "0HTa3KVFBH9F"
      },
      "outputs": [],
      "source": [
        "cvModel = cv.fit(train_data)"
      ]
    },
    {
      "cell_type": "code",
      "execution_count": 37,
      "metadata": {
        "id": "TquVYlqdKBXy"
      },
      "outputs": [],
      "source": [
        "# cvModel.bestModel._java_obj.getRegParam()"
      ]
    },
    {
      "cell_type": "code",
      "execution_count": 38,
      "metadata": {
        "id": "JGlhwjAzupDl",
        "colab": {
          "base_uri": "https://localhost:8080/"
        },
        "outputId": "616f1cd9-21d9-42d4-e004-47d9a473fa73"
      },
      "outputs": [
        {
          "output_type": "stream",
          "name": "stdout",
          "text": [
            "Area under ROC curve on test data = 0.502816\n",
            "Area under PR curve on test data = 0.248422\n"
          ]
        }
      ],
      "source": [
        "# Make pipeline\n",
        "# pipeline = Pipeline(stages=[lr])\n",
        "\n",
        "# Train model\n",
        "# model = pipeline.fit(train_data)\n",
        "\n",
        "# Predict data\n",
        "predictions = cvModel.transform(test_data)\n",
        "\n",
        "# Evaluation\n",
        "roc = roc_evaluator.evaluate(predictions)\n",
        "print(\"Area under ROC curve on test data = %g\" % roc)\n",
        "\n",
        "pr = pr_evaluator.evaluate(predictions)\n",
        "print(\"Area under PR curve on test data = %g\" % pr)"
      ]
    },
    {
      "cell_type": "code",
      "execution_count": null,
      "metadata": {
        "id": "Ug2j1MOh5iIP"
      },
      "outputs": [],
      "source": [
        "predictions.filter(F.col(\"label\") != F.col(\"prediction\")).limit(20).show()"
      ]
    },
    {
      "cell_type": "code",
      "execution_count": null,
      "metadata": {
        "id": "z7OjYEbDek4n"
      },
      "outputs": [],
      "source": [
        "# preds = predictions.limit(1).select(\"features\")\n",
        "# preds.collect()"
      ]
    },
    {
      "cell_type": "code",
      "execution_count": null,
      "metadata": {
        "id": "PpsjVnEC1qRE"
      },
      "outputs": [],
      "source": [
        "# model_coeffs = list(model.stages[-1].coefficients)"
      ]
    },
    {
      "cell_type": "code",
      "execution_count": null,
      "metadata": {
        "id": "6jLuF-gs1NCm"
      },
      "outputs": [],
      "source": [
        "numeric_metadata = predictions \\\n",
        "    .select(\"features\") \\\n",
        "    .schema[0].metadata.get('ml_attr') \\\n",
        "    .get('attrs') \\\n",
        "    .get('numeric')\n",
        "# binary_metadata = predictions \\\n",
        "#     .select(\"features\") \\\n",
        "#     .schema[0].metadata.get('ml_attr') \\\n",
        "#     .get('attrs') \\\n",
        "#     .get('binary')\n",
        "\n",
        "merge_list = numeric_metadata #+ binary_metadata\n",
        "merge_list"
      ]
    },
    {
      "cell_type": "code",
      "execution_count": null,
      "metadata": {
        "id": "vQO32JKLTsLH"
      },
      "outputs": [],
      "source": [
        "# coeff_name_list = []\n",
        "# for elem in merge_list:\n",
        "#     idx = elem[\"idx\"]\n",
        "#     val = model_coeffs[idx]\n",
        "#     coeff_name_list.append([idx, elem[\"name\"], val])\n",
        "# coeff_name_list.sort(key=lambda x: abs(x[2]), reverse=True)\n",
        "# coeff_name_list"
      ]
    },
    {
      "cell_type": "markdown",
      "metadata": {
        "id": "P8mojSWOjiqn"
      },
      "source": [
        "#### Tree Regressor"
      ]
    },
    {
      "cell_type": "code",
      "execution_count": null,
      "metadata": {
        "id": "CDlgkPTrnV00"
      },
      "outputs": [],
      "source": [
        "dt = DecisionTreeClassifier()"
      ]
    },
    {
      "cell_type": "code",
      "execution_count": null,
      "metadata": {
        "id": "_Tjx8mnYLhG9"
      },
      "outputs": [],
      "source": [
        "grid = ParamGridBuilder() \\\n",
        "    .addGrid(dt.maxDepth, [5, 10, 20]) \\\n",
        "    .addGrid(dt.maxBins, [32, 64]) \\\n",
        "    .build()\n",
        "cv = CrossValidator(\n",
        "    estimator=dt,\n",
        "    estimatorParamMaps=grid,\n",
        "    evaluator=roc_evaluator,\n",
        "    parallelism=2,\n",
        "    numFolds=4\n",
        ")"
      ]
    },
    {
      "cell_type": "code",
      "execution_count": null,
      "metadata": {
        "id": "zjqxQ8jxMEDj"
      },
      "outputs": [],
      "source": [
        "cvModel = cv.fit(train_data)"
      ]
    },
    {
      "cell_type": "code",
      "execution_count": null,
      "metadata": {
        "id": "sQF5QgILjh0T"
      },
      "outputs": [],
      "source": [
        "# Make pipeline\n",
        "# pipeline = Pipeline(stages=[dt])\n",
        "\n",
        "# Train model\n",
        "# model = pipeline.fit(train_data)\n",
        "\n",
        "# Predict data\n",
        "predictions = cvModel.transform(test_data)\n",
        "\n",
        "# Evaluate\n",
        "roc = roc_evaluator.evaluate(predictions)\n",
        "print(\"Area under ROC on test data = %g\" % roc)\n",
        "\n",
        "pr = pr_evaluator.evaluate(predictions)\n",
        "print(\"Area under PR on test data = %g\" % pr)"
      ]
    },
    {
      "cell_type": "code",
      "execution_count": null,
      "metadata": {
        "id": "fCW-Bt3bchEt"
      },
      "outputs": [],
      "source": [
        "dt_best_model = cvModel.bestmodel\n",
        "dt_best_model.save(\"models/dt\")\n",
        "\n",
        "predictions.coalesce(1).select(\"prediction\", \"label\").write.mode(\"overwrite\").format(\n",
        "    \"csv\"\n",
        ").option(\"sep\", \",\").option(\"header\", \"true\").csv(\"output/dt_predictions.csv\")\n",
        "\n",
        "spark.createDataFrame(\n",
        "    data=[[\"ROC\", roc], [\"PR\", pr]], schema=[\"metric\", \"value\"]\n",
        ").coalesce(1).write.mode(\"overwrite\").format(\"csv\").option(\"sep\", \",\").option(\n",
        "    \"header\", \"true\"\n",
        ").csv(\n",
        "    \"output/dt_scores\"\n",
        ")"
      ]
    },
    {
      "cell_type": "code",
      "execution_count": null,
      "metadata": {
        "colab": {
          "base_uri": "https://localhost:8080/"
        },
        "id": "CcDqWCHT9xJu",
        "outputId": "66baee33-2614-487a-acf0-86acc8ee7b93"
      },
      "outputs": [
        {
          "name": "stdout",
          "output_type": "stream",
          "text": [
            "+-----+--------------------+-------------+--------------------+----------+\n",
            "|label|            features|rawPrediction|         probability|prediction|\n",
            "+-----+--------------------+-------------+--------------------+----------+\n",
            "|  0.0|[-0.4182645985329...| [399.0,13.0]|[0.96844660194174...|       0.0|\n",
            "|  0.0|[-0.3724958642348...| [139.0,12.0]|[0.92052980132450...|       0.0|\n",
            "|  0.0|[-0.3659390397274...|   [11.0,0.0]|           [1.0,0.0]|       0.0|\n",
            "|  0.0|[-0.3408370610327...| [139.0,12.0]|[0.92052980132450...|       0.0|\n",
            "|  0.0|[-0.3055967630060...| [139.0,12.0]|[0.92052980132450...|       0.0|\n",
            "|  0.0|[-0.2947662917471...|   [11.0,0.0]|           [1.0,0.0]|       0.0|\n",
            "|  0.0|[-0.2944201628536...| [399.0,13.0]|[0.96844660194174...|       0.0|\n",
            "|  0.0|[-0.2714421892618...| [139.0,12.0]|[0.92052980132450...|       0.0|\n",
            "|  0.0|[-0.2273857700977...| [399.0,13.0]|[0.96844660194174...|       0.0|\n",
            "|  0.0|[-0.2139703572298...| [139.0,12.0]|[0.92052980132450...|       0.0|\n",
            "+-----+--------------------+-------------+--------------------+----------+\n",
            "\n"
          ]
        }
      ],
      "source": [
        "predictions.limit(10).show()"
      ]
    },
    {
      "cell_type": "code",
      "execution_count": null,
      "metadata": {
        "id": "Rspx2fUg97d4"
      },
      "outputs": [],
      "source": [
        "# predictionAndLabels = predictions.select([\"label\", \"prediction\"]).rdd"
      ]
    },
    {
      "cell_type": "code",
      "execution_count": null,
      "metadata": {
        "colab": {
          "base_uri": "https://localhost:8080/"
        },
        "id": "gPG9m1Zv75W6",
        "outputId": "6ac41727-d872-48d0-ba14-f0b4d5c34df2"
      },
      "outputs": [
        {
          "name": "stdout",
          "output_type": "stream",
          "text": [
            "Area under PR = 0.0483047385620915\n",
            "Area under ROC = 0.5231668915879443\n"
          ]
        }
      ],
      "source": [
        "# # Instantiate metrics object\n",
        "# metrics = BinaryClassificationMetrics(predictionAndLabels)\n",
        "\n",
        "# # Area under precision-recall curve\n",
        "# print(\"Area under PR = %s\" % metrics.areaUnderPR)\n",
        "\n",
        "# # Area under ROC curve\n",
        "# print(\"Area under ROC = %s\" % metrics.areaUnderROC)"
      ]
    },
    {
      "cell_type": "code",
      "execution_count": null,
      "metadata": {
        "id": "zHs6zTbPwraW"
      },
      "outputs": [],
      "source": [
        "# # Evaluation\n",
        "# roc_evaluator = BinaryClassificationEvaluator(\n",
        "#     labelCol=\"label\",\n",
        "#     rawPredictionCol=\"prediction\",\n",
        "#     metricName=\"areaUnderROC\"\n",
        "# )\n",
        "# roc = roc_evaluator.evaluate(predictions)\n",
        "# print(\"Area under ROC on test data = %g\" % roc)\n",
        "\n",
        "# r2_evaluator = RegressionEvaluator(\n",
        "#     labelCol=\"label\",\n",
        "#     predictionCol=\"prediction\",\n",
        "#     metricName=\"r2\"\n",
        "# )\n",
        "\n",
        "# r2 = r2_evaluator.evaluate(predictions)\n",
        "# print(\"Coefficient of Determination (R2) on test data = %g\" % r2)"
      ]
    }
  ],
  "metadata": {
    "colab": {
      "toc_visible": true,
      "provenance": []
    },
    "kernelspec": {
      "display_name": "Python 3",
      "name": "python3"
    },
    "language_info": {
      "name": "python"
    }
  },
  "nbformat": 4,
  "nbformat_minor": 0
}